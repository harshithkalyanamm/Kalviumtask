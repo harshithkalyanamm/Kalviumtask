{
 "cells": [
  {
   "cell_type": "code",
   "execution_count": 1,
   "id": "47ca2cc4",
   "metadata": {},
   "outputs": [],
   "source": [
    "from bs4 import BeautifulSoup\n",
    "import requests\n",
    "import pandas as pd\n"
   ]
  },
  {
   "cell_type": "code",
   "execution_count": 2,
   "id": "23c4050d",
   "metadata": {},
   "outputs": [],
   "source": [
    "URL = \"https://results.eci.gov.in/\"\n",
    "HEADERS = {'User-Agent': \"Mozilla/5.0 (Windows NT 10.0; Win64; x64) AppleWebKit/537.36 (KHTML, like Gecko) Chrome/42.0.2311.135 Safari/537.36 Edge/12.246\"} "
   ]
  },
  {
   "cell_type": "code",
   "execution_count": 3,
   "id": "10f98572",
   "metadata": {},
   "outputs": [],
   "source": [
    "webpage = requests.get(URL, headers=HEADERS )"
   ]
  },
  {
   "cell_type": "code",
   "execution_count": 4,
   "id": "d0ef18ff",
   "metadata": {},
   "outputs": [
    {
     "data": {
      "text/plain": [
       "bytes"
      ]
     },
     "execution_count": 4,
     "metadata": {},
     "output_type": "execute_result"
    }
   ],
   "source": [
    "type(webpage.content)"
   ]
  },
  {
   "cell_type": "code",
   "execution_count": 5,
   "id": "c9125db6",
   "metadata": {},
   "outputs": [],
   "source": [
    "soup = BeautifulSoup(webpage.content, \"html.parser\")"
   ]
  },
  {
   "cell_type": "code",
   "execution_count": 6,
   "id": "35cdf86e",
   "metadata": {},
   "outputs": [],
   "source": [
    "links = soup.find_all(\"a\", attrs={'class': 'a-link-normal s-no-outside'})"
   ]
  },
  {
   "cell_type": "code",
   "execution_count": 10,
   "id": "e72ebef1",
   "metadata": {},
   "outputs": [],
   "source": [
    "results = soup.find_all('div', class_='result')\n",
    "for result in results:\n",
    "    candidate = result.find('span', class_='Winning Candidate').text\n",
    "    votes = result.find('span', class_='Total Votes').text\n",
    "    print(f'Candidate: {candidate}, Votes: {votes}')"
   ]
  },
  {
   "cell_type": "code",
   "execution_count": 12,
   "id": "ccc5421e",
   "metadata": {},
   "outputs": [],
   "source": [
    "r = requests.get(URL)"
   ]
  },
  {
   "cell_type": "code",
   "execution_count": null,
   "id": "dc65547e",
   "metadata": {},
   "outputs": [],
   "source": []
  }
 ],
 "metadata": {
  "kernelspec": {
   "display_name": "Python 3",
   "language": "python",
   "name": "python3"
  },
  "language_info": {
   "codemirror_mode": {
    "name": "ipython",
    "version": 3
   },
   "file_extension": ".py",
   "mimetype": "text/x-python",
   "name": "python",
   "nbconvert_exporter": "python",
   "pygments_lexer": "ipython3",
   "version": "3.8.8"
  }
 },
 "nbformat": 4,
 "nbformat_minor": 5
}
